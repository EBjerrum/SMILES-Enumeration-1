{
 "cells": [
  {
   "cell_type": "code",
   "execution_count": 1,
   "metadata": {
    "collapsed": true
   },
   "outputs": [],
   "source": [
    "import pandas as pd\n",
    "import numpy as np\n",
    "from rdkit.Chem import PandasTools\n",
    "from rdkit import Chem\n",
    "import molvs as mv"
   ]
  },
  {
   "cell_type": "code",
   "execution_count": 2,
   "metadata": {
    "collapsed": true
   },
   "outputs": [],
   "source": [
    "import time\n",
    "from datetime import timedelta\n",
    "start = time.time()"
   ]
  },
  {
   "cell_type": "code",
   "execution_count": 3,
   "metadata": {
    "collapsed": true
   },
   "outputs": [],
   "source": [
    "#All dataset are from: https://tripod.nih.gov/tox21/challenge/data.jsp\n",
    "#Training and Leaderboard Datasets\n",
    "df_train = PandasTools.LoadSDF('/ihome/gidakwo/ml_files/SMILES/Tox21/Tox21_sdf/tox21_10k_data_all.sdf')\n",
    "df_leaderbd = PandasTools.LoadSDF('/ihome/gidakwo/ml_files/SMILES/Tox21/Tox21_sdf/tox21_10k_challenge_test.sdf')\n",
    "\n",
    "df_train_lead = pd.concat([df_train, df_leaderbd])\n",
    "\n",
    "#tox21_df.info()\n",
    "keep_cols = ['NR-AR', 'NR-AR-LBD', 'NR-AhR', 'NR-Aromatase', 'NR-ER', 'NR-ER-LBD', 'NR-PPAR-gamma',\n",
    "            'SR-ARE', 'SR-ATAD5', 'SR-HSE', 'SR-MMP', 'SR-p53', 'ROMol']\n",
    "df_train_lead = df_train_lead[keep_cols]\n",
    "\n",
    "df_train_lead['smiles'] = df_train_lead['ROMol'].apply(Chem.MolToSmiles)\n",
    "df_train_lead = df_train_lead.drop('ROMol', axis=1)"
   ]
  },
  {
   "cell_type": "code",
   "execution_count": 4,
   "metadata": {
    "collapsed": true
   },
   "outputs": [],
   "source": [
    "#THE FINAL TEST SET\n",
    "df_score_smiles = pd.read_csv('/ihome/gidakwo/ml_files/SMILES/Tox21/Tox21_sdf/tox21_10k_challenge_score.smiles', sep='\\t')\n",
    "df_score_results = pd.read_csv('/ihome/gidakwo/ml_files/SMILES/Tox21/Tox21_sdf/tox21_10k_challenge_score.txt', sep='\\t')\n",
    "\n",
    "df_test = pd.concat([df_score_smiles, df_score_results]).groupby('Sample ID', as_index=False, sort=False).first().fillna('NA')\n",
    "\n",
    "df_test = df_test.drop('Sample ID', axis=1).replace('x', np.nan)\n",
    "df_test.rename(columns={'#SMILES': 'smiles'}, inplace=True)"
   ]
  },
  {
   "cell_type": "code",
   "execution_count": 5,
   "metadata": {
    "collapsed": true
   },
   "outputs": [],
   "source": [
    "df_tox21 = pd.concat([df_train_lead, df_test]).reset_index(drop=True)"
   ]
  },
  {
   "cell_type": "code",
   "execution_count": 6,
   "metadata": {
    "collapsed": true
   },
   "outputs": [],
   "source": [
    "#Function to get parent of a smiles\n",
    "#Modified from: https://www.wildcardconsulting.dk/useful-information/a-deep-tox21-neural-network-with-rdkit-and-keras/\n",
    "def get_parent_smile(smile):\n",
    "    try:\n",
    "        st = mv.Standardizer()\n",
    "        mol = Chem.MolFromSmiles(smile)\n",
    "        smts = Chem.MolFromSmarts(\"[!#1&!#5&!#6&!#7&!#8&!#9&!#14&!#15&!#16&!#17&!#34&!#35&!#53]~*\")\n",
    "        if mol.HasSubstructMatch(smts) == False:\n",
    "            mols = st.charge_parent(mol)\n",
    "            return Chem.MolToSmiles(mols)\n",
    "        else:\n",
    "            #print(smile)\n",
    "            return 'problematic'\n",
    "    except:\n",
    "        return 'NaN'\n",
    "    \n",
    "#Clean and standardize the data\n",
    "def clean_data(data):\n",
    "    #remove missing smiles\n",
    "    data = data[~(data['smiles'].isnull())]\n",
    "    \n",
    "    #Standardize and get parent with molvs\n",
    "    data[\"smiles_parent\"] = data.smiles.apply(get_parent_smile)\n",
    "    data = data[~(data['smiles_parent'] == \"NaN\")]\n",
    "    return data\n",
    "\n",
    "#Generate InchiKey\n",
    "def inchikey_gen(smile):\n",
    "    try:\n",
    "        m = Chem.MolFromSmiles(smile)\n",
    "        m_ = Chem.MolToInchi(m)\n",
    "        m__ = Chem.InchiToInchiKey(m_)\n",
    "        return m__\n",
    "    except:\n",
    "        return 'Failed'"
   ]
  },
  {
   "cell_type": "code",
   "execution_count": 7,
   "metadata": {
    "collapsed": true
   },
   "outputs": [],
   "source": [
    "df_tox21 = clean_data(df_tox21)"
   ]
  },
  {
   "cell_type": "code",
   "execution_count": 8,
   "metadata": {},
   "outputs": [
    {
     "name": "stdout",
     "output_type": "stream",
     "text": [
      "142\n"
     ]
    }
   ],
   "source": [
    "pCompounds = df_tox21[df_tox21['smiles_parent']=='problematic']['smiles']\n",
    "print(len(pCompounds))\n",
    "\n",
    "df_tox21 = df_tox21[~(df_tox21['smiles_parent'] == 'problematic')]"
   ]
  },
  {
   "cell_type": "code",
   "execution_count": 9,
   "metadata": {
    "collapsed": true
   },
   "outputs": [],
   "source": [
    "df_tox21['InchiKey'] = df_tox21['smiles_parent'].apply(inchikey_gen)"
   ]
  },
  {
   "cell_type": "code",
   "execution_count": 10,
   "metadata": {},
   "outputs": [
    {
     "name": "stdout",
     "output_type": "stream",
     "text": [
      "0:00:57.345032\n"
     ]
    }
   ],
   "source": [
    "elapsed = (time.time() - start)\n",
    "print(str(timedelta(seconds=elapsed)))"
   ]
  },
  {
   "cell_type": "code",
   "execution_count": 11,
   "metadata": {},
   "outputs": [
    {
     "data": {
      "text/html": [
       "<table border=\"1\" class=\"dataframe\">\n",
       "  <thead>\n",
       "    <tr style=\"text-align: right;\">\n",
       "      <th></th>\n",
       "      <th>NR-AR</th>\n",
       "      <th>NR-AR-LBD</th>\n",
       "      <th>NR-AhR</th>\n",
       "      <th>NR-Aromatase</th>\n",
       "      <th>NR-ER</th>\n",
       "      <th>NR-ER-LBD</th>\n",
       "      <th>NR-PPAR-gamma</th>\n",
       "      <th>SR-ARE</th>\n",
       "      <th>SR-ATAD5</th>\n",
       "      <th>SR-HSE</th>\n",
       "      <th>SR-MMP</th>\n",
       "      <th>SR-p53</th>\n",
       "      <th>smiles</th>\n",
       "      <th>smiles_parent</th>\n",
       "      <th>InchiKey</th>\n",
       "    </tr>\n",
       "  </thead>\n",
       "  <tbody>\n",
       "    <tr>\n",
       "      <th>0</th>\n",
       "      <td>NaN</td>\n",
       "      <td>NaN</td>\n",
       "      <td>NaN</td>\n",
       "      <td>NaN</td>\n",
       "      <td>NaN</td>\n",
       "      <td>NaN</td>\n",
       "      <td>NaN</td>\n",
       "      <td>NaN</td>\n",
       "      <td>NaN</td>\n",
       "      <td>0</td>\n",
       "      <td>NaN</td>\n",
       "      <td>NaN</td>\n",
       "      <td>C[n+]1c2cc(N)ccc2cc2ccc(N)cc21.Nc1ccc2cc3ccc(N)cc3nc2c1.[Cl-]</td>\n",
       "      <td>C[n+]1c2cc(N)ccc2cc2ccc(N)cc21</td>\n",
       "      <td>XSIOKTWDEOJMGG-UHFFFAOYSA-O</td>\n",
       "    </tr>\n",
       "    <tr>\n",
       "      <th>1</th>\n",
       "      <td>NaN</td>\n",
       "      <td>NaN</td>\n",
       "      <td>NaN</td>\n",
       "      <td>NaN</td>\n",
       "      <td>NaN</td>\n",
       "      <td>NaN</td>\n",
       "      <td>NaN</td>\n",
       "      <td>NaN</td>\n",
       "      <td>NaN</td>\n",
       "      <td>0</td>\n",
       "      <td>NaN</td>\n",
       "      <td>NaN</td>\n",
       "      <td>O=C([O-])c1ccccc1-c1c2cc(Br)c(=O)c(Br)c-2oc2c(Br)c([O-])c(Br)cc12.[Na+].[Na+]</td>\n",
       "      <td>O=C(O)c1ccccc1-c1c2cc(Br)c(=O)c(Br)c-2oc2c(Br)c(O)c(Br)cc12</td>\n",
       "      <td>AZXGXVQWEUFULR-UHFFFAOYSA-N</td>\n",
       "    </tr>\n",
       "    <tr>\n",
       "      <th>2</th>\n",
       "      <td>NaN</td>\n",
       "      <td>NaN</td>\n",
       "      <td>NaN</td>\n",
       "      <td>NaN</td>\n",
       "      <td>NaN</td>\n",
       "      <td>NaN</td>\n",
       "      <td>NaN</td>\n",
       "      <td>NaN</td>\n",
       "      <td>NaN</td>\n",
       "      <td>0</td>\n",
       "      <td>NaN</td>\n",
       "      <td>NaN</td>\n",
       "      <td>COC1CC(OC2CC(C3OC(C)(O)C(C)CC3C)OC2C2(C)CCC(C3(C)CCC4(CC(O)C(C)C(C(C)C5OC(O)(CC(=O)[O-])C(C)C(OC)C5OC)O4)O3)O2)OC(C)C1OC.[NH4+]</td>\n",
       "      <td>COC1CC(OC2CC(C3OC(C)(O)C(C)CC3C)OC2C2(C)CCC(C3(C)CCC4(CC(O)C(C)C(C(C)C5OC(O)(CC(=O)O)C(C)C(OC)C5OC)O4)O3)O2)OC(C)C1OC</td>\n",
       "      <td>RWVUEZAROXKXRT-UHFFFAOYSA-N</td>\n",
       "    </tr>\n",
       "    <tr>\n",
       "      <th>3</th>\n",
       "      <td>NaN</td>\n",
       "      <td>NaN</td>\n",
       "      <td>NaN</td>\n",
       "      <td>NaN</td>\n",
       "      <td>NaN</td>\n",
       "      <td>NaN</td>\n",
       "      <td>NaN</td>\n",
       "      <td>NaN</td>\n",
       "      <td>NaN</td>\n",
       "      <td>1</td>\n",
       "      <td>NaN</td>\n",
       "      <td>NaN</td>\n",
       "      <td>CN(C)c1ccc(C(=C2C=CC(=[N+](C)C)C=C2)c2ccccc2)cc1.CN(C)c1ccc(C(=C2C=CC(=[N+](C)C)C=C2)c2ccccc2)cc1.O=C(O)C(=O)O.O=C([O-])C(=O)O.O=C([O-])C(=O)O</td>\n",
       "      <td>CN(C)c1ccc(C(=C2C=CC(=[N+](C)C)C=C2)c2ccccc2)cc1</td>\n",
       "      <td>VFCNQNZNPKRXIT-UHFFFAOYSA-N</td>\n",
       "    </tr>\n",
       "    <tr>\n",
       "      <th>4</th>\n",
       "      <td>0</td>\n",
       "      <td>NaN</td>\n",
       "      <td>NaN</td>\n",
       "      <td>NaN</td>\n",
       "      <td>NaN</td>\n",
       "      <td>NaN</td>\n",
       "      <td>NaN</td>\n",
       "      <td>NaN</td>\n",
       "      <td>NaN</td>\n",
       "      <td>NaN</td>\n",
       "      <td>NaN</td>\n",
       "      <td>NaN</td>\n",
       "      <td>CC(=O)O.CCNC(=O)C1CCCN1C(=O)C(CCCNC(=N)N)NC(=O)C(CC(C)C)NC(=O)C(Cc1c[nH]c2ccccc12)NC(=O)C(Cc1ccc(O)cc1)NC(=O)C(CO)NC(=O)C(Cc1c[nH]c2ccccc12)NC(=O)C(Cc1c[nH]cn1)NC(=O)C1CCC(=O)N1</td>\n",
       "      <td>CCNC(=O)C1CCCN1C(=O)C(CCCNC(=N)N)NC(=O)C(CC(C)C)NC(=O)C(Cc1c[nH]c2ccccc12)NC(=O)C(Cc1ccc(O)cc1)NC(=O)C(CO)NC(=O)C(Cc1c[nH]c2ccccc12)NC(=O)C(Cc1c[nH]cn1)NC(=O)C1CCC(=O)N1</td>\n",
       "      <td>GJKXGJCSJWBJEZ-UHFFFAOYSA-N</td>\n",
       "    </tr>\n",
       "  </tbody>\n",
       "</table>"
      ],
      "text/plain": [
       "  NR-AR NR-AR-LBD NR-AhR NR-Aromatase NR-ER NR-ER-LBD NR-PPAR-gamma SR-ARE SR-ATAD5 SR-HSE SR-MMP SR-p53                                                                                                                                                                             smiles                                                                                                                                                              smiles_parent                     InchiKey\n",
       "0   NaN       NaN    NaN          NaN   NaN       NaN           NaN    NaN      NaN      0    NaN    NaN                                                                                                                      C[n+]1c2cc(N)ccc2cc2ccc(N)cc21.Nc1ccc2cc3ccc(N)cc3nc2c1.[Cl-]                                                                                                                                             C[n+]1c2cc(N)ccc2cc2ccc(N)cc21  XSIOKTWDEOJMGG-UHFFFAOYSA-O\n",
       "1   NaN       NaN    NaN          NaN   NaN       NaN           NaN    NaN      NaN      0    NaN    NaN                                                                                                      O=C([O-])c1ccccc1-c1c2cc(Br)c(=O)c(Br)c-2oc2c(Br)c([O-])c(Br)cc12.[Na+].[Na+]                                                                                                                O=C(O)c1ccccc1-c1c2cc(Br)c(=O)c(Br)c-2oc2c(Br)c(O)c(Br)cc12  AZXGXVQWEUFULR-UHFFFAOYSA-N\n",
       "2   NaN       NaN    NaN          NaN   NaN       NaN           NaN    NaN      NaN      0    NaN    NaN                                                    COC1CC(OC2CC(C3OC(C)(O)C(C)CC3C)OC2C2(C)CCC(C3(C)CCC4(CC(O)C(C)C(C(C)C5OC(O)(CC(=O)[O-])C(C)C(OC)C5OC)O4)O3)O2)OC(C)C1OC.[NH4+]                                                      COC1CC(OC2CC(C3OC(C)(O)C(C)CC3C)OC2C2(C)CCC(C3(C)CCC4(CC(O)C(C)C(C(C)C5OC(O)(CC(=O)O)C(C)C(OC)C5OC)O4)O3)O2)OC(C)C1OC  RWVUEZAROXKXRT-UHFFFAOYSA-N\n",
       "3   NaN       NaN    NaN          NaN   NaN       NaN           NaN    NaN      NaN      1    NaN    NaN                                     CN(C)c1ccc(C(=C2C=CC(=[N+](C)C)C=C2)c2ccccc2)cc1.CN(C)c1ccc(C(=C2C=CC(=[N+](C)C)C=C2)c2ccccc2)cc1.O=C(O)C(=O)O.O=C([O-])C(=O)O.O=C([O-])C(=O)O                                                                                                                           CN(C)c1ccc(C(=C2C=CC(=[N+](C)C)C=C2)c2ccccc2)cc1  VFCNQNZNPKRXIT-UHFFFAOYSA-N\n",
       "4     0       NaN    NaN          NaN   NaN       NaN           NaN    NaN      NaN    NaN    NaN    NaN  CC(=O)O.CCNC(=O)C1CCCN1C(=O)C(CCCNC(=N)N)NC(=O)C(CC(C)C)NC(=O)C(Cc1c[nH]c2ccccc12)NC(=O)C(Cc1ccc(O)cc1)NC(=O)C(CO)NC(=O)C(Cc1c[nH]c2ccccc12)NC(=O)C(Cc1c[nH]cn1)NC(=O)C1CCC(=O)N1  CCNC(=O)C1CCCN1C(=O)C(CCCNC(=N)N)NC(=O)C(CC(C)C)NC(=O)C(Cc1c[nH]c2ccccc12)NC(=O)C(Cc1ccc(O)cc1)NC(=O)C(CO)NC(=O)C(Cc1c[nH]c2ccccc12)NC(=O)C(Cc1c[nH]cn1)NC(=O)C1CCC(=O)N1  GJKXGJCSJWBJEZ-UHFFFAOYSA-N"
      ]
     },
     "execution_count": 11,
     "metadata": {},
     "output_type": "execute_result"
    }
   ],
   "source": [
    "df_tox21.head(5)"
   ]
  },
  {
   "cell_type": "code",
   "execution_count": null,
   "metadata": {
    "collapsed": true
   },
   "outputs": [],
   "source": []
  }
 ],
 "metadata": {
  "kernelspec": {
   "display_name": "Python 3",
   "language": "python",
   "name": "jupy_kernel"
  },
  "language_info": {
   "codemirror_mode": {
    "name": "ipython",
    "version": 3
   },
   "file_extension": ".py",
   "mimetype": "text/x-python",
   "name": "python",
   "nbconvert_exporter": "python",
   "pygments_lexer": "ipython3",
   "version": "3.5.4"
  }
 },
 "nbformat": 4,
 "nbformat_minor": 2
}
