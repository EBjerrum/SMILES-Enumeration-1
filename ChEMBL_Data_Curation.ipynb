{
 "cells": [
  {
   "cell_type": "code",
<<<<<<< HEAD
<<<<<<< HEAD
=======

>>>>>>> e4ece50b67b41079d3008e315570b29295866caf
   "execution_count": 22,
   "metadata": {
    "collapsed": true
   },
<<<<<<< HEAD
=======
   "execution_count": 1,
   "metadata": {},
>>>>>>> 71a49cb1cd4d8b5ba4bec75ab898197dbd91220c
=======

>>>>>>> e4ece50b67b41079d3008e315570b29295866caf
   "outputs": [],
   "source": [
    "import sqlite3\n",
    "import pandas as pd\n",
    "import pickle\n",
    "import timeit\n",
    "from bioservices import ChEMBL\n",
    "#BioServices Documentation\n",
    "#http://bioservices.readthedocs.io/en/master/references.html#module-bioservices.chembl"
   ]
  },
  {
   "cell_type": "code",
<<<<<<< HEAD
<<<<<<< HEAD
=======

>>>>>>> e4ece50b67b41079d3008e315570b29295866caf
   "execution_count": 23,
   "metadata": {
    "collapsed": true
   },
<<<<<<< HEAD
=======
   "execution_count": 7,
   "metadata": {},
   "outputs": [
    {
     "name": "stdout",
     "output_type": "stream",
     "text": [
      "Database available\n"
     ]
    }
   ],
   "source": [
    "import os\n",
    "db_file = \"ftp://ftp.ebi.ac.uk/pub/databases/chembl/ChEMBLdb/releases/chembl_23/chembl_23_sqlite.tar.gz\"\n",
    "filename = os.path.basename(db_file)\n",
    "local_db_file = \"./Downloads/%s\"%filename\n",
    "if not os.path.exists(local_db_file):\n",
    "    import urllib.request\n",
    "    urllib.request.urlretrieve(db_file, local_db_file)\n",
    "else:\n",
    "    print(\"Database available\")\n",
    "#TODO unzip the file automatically"
   ]
  },
  {
   "cell_type": "code",
   "execution_count": 2,
   "metadata": {},
   "outputs": [
    {
     "name": "stdout",
     "output_type": "stream",
     "text": [
      "1302147\n"
     ]
    }
   ],
   "source": [
    "#Download chembl for sqlite via the ftp\n",
    "conn = sqlite3.connect(\"./Downloads/chembl_23/chembl_23_sqlite/chembl_23.db\")\n",
    "cur = conn.cursor()\n",
    "cur.execute('''SELECT * FROM assays;''')\n",
    "all_assays = cur.fetchall()\n",
    "print(len(all_assays))"
   ]
  },
  {
   "cell_type": "code",
   "execution_count": 3,
   "metadata": {},
   "outputs": [
    {
     "name": "stdout",
     "output_type": "stream",
     "text": [
      "Shape of Entire Assays Table:  (1302147, 23)\n",
      "Shape of Assay Subset of Type Binding (B):  (272421, 23)\n"
     ]
    }
   ],
   "source": [
    "df = pd.read_sql_query(\"SELECT * FROM assays;\", conn)\n",
    "print('Shape of Entire Assays Table: ', df.shape)\n",
    "\n",
    "df_B = df.loc[df['assay_type'] == 'B']\n",
    "print('Shape of Assay Subset of Type Binding (B): ', df_B.shape) \n",
    "\n",
    "#This table does not have the number of compounds/activities for each assay, which is required for ranking\n",
    "#To do this, Bioservices was used to get details by ChemID"
   ]
  },
  {
   "cell_type": "code",
   "execution_count": 37,
   "metadata": {},
   "outputs": [
    {
     "name": "stdout",
     "output_type": "stream",
     "text": [
      "        count(*)  assay_id      chembl_id         assay_organism  \\\n",
      "151032     88483    752359  CHEMBL1794375                   None   \n",
      "140667     49809    688739  CHEMBL1614421           Homo sapiens   \n",
      "140606     42303    688170  CHEMBL1614249         Equus caballus   \n",
      "140603     34246    688133  CHEMBL1614166                   None   \n",
      "140664     12273    688724  CHEMBL1614364           Homo sapiens   \n",
      "147217      7272    737065  CHEMBL1613933           Homo sapiens   \n",
      "217205      5133   1301866  CHEMBL3214913                   None   \n",
      "217174      3728   1301608  CHEMBL3215169                   None   \n",
      "157851      1742    774650  CHEMBL1909171                   None   \n",
      "157866      1742    774665  CHEMBL1909186           Homo sapiens   \n",
      "157961      1742    774760  CHEMBL1909149      Rattus norvegicus   \n",
      "157867      1742    774666  CHEMBL1909187           Homo sapiens   \n",
      "157868      1742    774667  CHEMBL1909188                   None   \n",
      "157869      1742    774668  CHEMBL1909189                   None   \n",
      "157960      1742    774759  CHEMBL1909148      Rattus norvegicus   \n",
      "157959      1742    774758  CHEMBL1909147      Rattus norvegicus   \n",
      "157958      1742    774757  CHEMBL1909146                   None   \n",
      "157870      1742    774669  CHEMBL1909190                   None   \n",
      "157871      1742    774670  CHEMBL1909191             Bos taurus   \n",
      "157872      1742    774671  CHEMBL1909192  Oryctolagus cuniculus   \n",
      "\n",
      "                                              description assay_type  \n",
      "151032  PUBCHEM_BIOASSAY: qHTS for inhibitors of bindi...          B  \n",
      "140667  PUBCHEM_BIOASSAY: qHTS for Inhibitors of Tau F...          B  \n",
      "140606  PUBCHEM_BIOASSAY: qHTS Assay for Identificatio...          B  \n",
      "140603  PubChem BioAssay. qHTS Assay for Inhibitors of...          B  \n",
      "140664  PUBCHEM_BIOASSAY: qHTS Assay for Inhibitors of...          B  \n",
      "147217  PUBCHEM_BIOASSAY: qHTS Assay for Compounds Blo...          B  \n",
      "217205  PubChem BioAssay. qHTS for Inhibitors of bindi...          B  \n",
      "217174  PubChem BioAssay. qHTS for Inhibitors of bindi...          B  \n",
      "157851  DRUGMATRIX: Muscarinic M2 radioligand binding ...          B  \n",
      "157866  DRUGMATRIX: Phosphodiesterase PDE5 enzyme inhi...          B  \n",
      "157961  DRUGMATRIX: GABAA, Chloride Channel, TBOB radi...          B  \n",
      "157867  DRUGMATRIX: Platelet Activating Factor (PAF) r...          B  \n",
      "157868  DRUGMATRIX: Platelet-Derived Growth Factor (PD...          B  \n",
      "157869  DRUGMATRIX: Potassium Channel [KATP] radioliga...          B  \n",
      "157960  DRUGMATRIX: GABAA, Flunitrazepam, Central radi...          B  \n",
      "157959  DRUGMATRIX: GABAA, Muscimol, Central radioliga...          B  \n",
      "157958  DRUGMATRIX: Estrogen ERbeta radioligand bindin...          B  \n",
      "157870  DRUGMATRIX: Potassium Channel HERG radioligand...          B  \n",
      "157871  DRUGMATRIX: Progesterone radioligand binding (...          B  \n",
      "157872  DRUGMATRIX: Peptidase, Angiotensin Converting ...          B  \n"
     ]
    }
   ],
   "source": [
    "query = \"\"\"SELECT count(*), A.assay_id, B.chembl_id, B.assay_organism, B.description, B.assay_type\n",
    "    FROM activities as A\n",
    "    LEFT JOIN assays AS B ON B.assay_id = A.assay_id\n",
    "    Where B.assay_type= \"B\"\n",
    "    \n",
    "    group by A.assay_id;\"\"\"\n",
    "\n",
    "#group_by activities.assay_id left join assays on activities.assay_id = assays.assay_id ;\"\n",
    "\n",
    "Assay_info = pd.read_sql_query(query, conn).sort_values(\"count(*)\", ascending = False)\n",
    "B_numB = Assay_info.iloc[:20,:]\n",
    "print(B_numB)"
   ]
  },
  {
   "cell_type": "code",
   "execution_count": 13,
   "metadata": {},
>>>>>>> 71a49cb1cd4d8b5ba4bec75ab898197dbd91220c
=======

>>>>>>> e4ece50b67b41079d3008e315570b29295866caf
   "outputs": [],
   "source": [
    "import time\n",
    "from datetime import timedelta\n",
    "start = time.time()"
   ]
  },
  {
   "cell_type": "code",
<<<<<<< HEAD
<<<<<<< HEAD
   "execution_count": 27,
=======
   "execution_count": null,
   "metadata": {},
   "outputs": [],
   "source": [
    "B_numB = pd.DataFrame(listAssay_B, dtype=object).fillna('').sort_values('numBioactivities', ascending = False)"
   ]
  },
  {
   "cell_type": "code",
   "execution_count": 5,
>>>>>>> 71a49cb1cd4d8b5ba4bec75ab898197dbd91220c
=======

   "execution_count": 27,

>>>>>>> e4ece50b67b41079d3008e315570b29295866caf
   "metadata": {
    "collapsed": true
   },
   "outputs": [],
   "source": [
    "conn = sqlite3.connect(\"/ihome/gidakwo/ml_files/SMILES/chembl_23/chembl_23_sqlite/chembl_23.db\")\n",
    "query = \"\"\"SELECT count(*), A.assay_id, B.chembl_id, B.assay_organism, B.description, B.assay_type\n",
    "    FROM activities as A\n",
    "    LEFT JOIN assays AS B ON B.assay_id = A.assay_id\n",
    "    Where B.assay_type= \"B\"\n",
    "    \n",
    "    group by A.assay_id;\"\"\"\n",
    "\n",
    "#group_by activities.assay_id left join assays on activities.assay_id = assays.assay_id ;\"\n",
    "\n",
    "Assay_info = pd.read_sql_query(query, conn).sort_values(\"count(*)\", ascending = False)\n",
    "B_numB = Assay_info.iloc[:20,:]"
   ]
  },
  {
   "cell_type": "code",
   "execution_count": 28,
   "metadata": {},
   "outputs": [
    {
     "data": {
      "text/html": [
       "<div>\n",
       "<style>\n",
       "    .dataframe thead tr:only-child th {\n",
       "        text-align: right;\n",
       "    }\n",
       "\n",
       "    .dataframe thead th {\n",
       "        text-align: left;\n",
       "    }\n",
       "\n",
       "    .dataframe tbody tr th {\n",
       "        vertical-align: top;\n",
       "    }\n",
       "</style>\n",
       "<table border=\"1\" class=\"dataframe\">\n",
       "  <thead>\n",
       "    <tr style=\"text-align: right;\">\n",
       "      <th></th>\n",
       "      <th>assayDescription</th>\n",
       "      <th>assayOrganism</th>\n",
       "      <th>assayStrain</th>\n",
       "      <th>assayType</th>\n",
       "      <th>chemblId</th>\n",
       "      <th>journal</th>\n",
       "      <th>numBioactivities</th>\n",
       "    </tr>\n",
       "  </thead>\n",
       "  <tbody>\n",
       "    <tr>\n",
       "      <th>140672</th>\n",
       "      <td>PUBCHEM_BIOASSAY: qHTS for Inhibitors of Tau F...</td>\n",
       "      <td>Homo sapiens</td>\n",
       "      <td>Unspecified</td>\n",
       "      <td>B</td>\n",
       "      <td>CHEMBL1614421</td>\n",
       "      <td></td>\n",
       "      <td>49809</td>\n",
       "    </tr>\n",
       "    <tr>\n",
       "      <th>140669</th>\n",
       "      <td>PUBCHEM_BIOASSAY: qHTS Assay for Inhibitors of...</td>\n",
       "      <td>Homo sapiens</td>\n",
       "      <td>Unspecified</td>\n",
       "      <td>B</td>\n",
       "      <td>CHEMBL1614364</td>\n",
       "      <td></td>\n",
       "      <td>12273</td>\n",
       "    </tr>\n",
       "    <tr>\n",
       "      <th>147222</th>\n",
       "      <td>PUBCHEM_BIOASSAY: qHTS Assay for Compounds Blo...</td>\n",
       "      <td>Homo sapiens</td>\n",
       "      <td>Unspecified</td>\n",
       "      <td>B</td>\n",
       "      <td>CHEMBL1613933</td>\n",
       "      <td></td>\n",
       "      <td>7272</td>\n",
       "    </tr>\n",
       "    <tr>\n",
       "      <th>157937</th>\n",
       "      <td>DRUGMATRIX: Thromboxane Synthetase enzyme inhi...</td>\n",
       "      <td>Homo sapiens</td>\n",
       "      <td>Unspecified</td>\n",
       "      <td>B</td>\n",
       "      <td>CHEMBL1909116</td>\n",
       "      <td></td>\n",
       "      <td>1742</td>\n",
       "    </tr>\n",
       "    <tr>\n",
       "      <th>157944</th>\n",
       "      <td>DRUGMATRIX: Carbonic Anhydrase II enzyme inhib...</td>\n",
       "      <td>Homo sapiens</td>\n",
       "      <td>Unspecified</td>\n",
       "      <td>B</td>\n",
       "      <td>CHEMBL1909123</td>\n",
       "      <td></td>\n",
       "      <td>1742</td>\n",
       "    </tr>\n",
       "    <tr>\n",
       "      <th>157951</th>\n",
       "      <td>DRUGMATRIX: Cyclooxygenase COX-1 enzyme inhibi...</td>\n",
       "      <td>Homo sapiens</td>\n",
       "      <td>Unspecified</td>\n",
       "      <td>B</td>\n",
       "      <td>CHEMBL1909130</td>\n",
       "      <td></td>\n",
       "      <td>1742</td>\n",
       "    </tr>\n",
       "    <tr>\n",
       "      <th>157876</th>\n",
       "      <td>DRUGMATRIX: Platelet Activating Factor (PAF) r...</td>\n",
       "      <td>Homo sapiens</td>\n",
       "      <td>Unspecified</td>\n",
       "      <td>B</td>\n",
       "      <td>CHEMBL1909187</td>\n",
       "      <td></td>\n",
       "      <td>1742</td>\n",
       "    </tr>\n",
       "    <tr>\n",
       "      <th>157875</th>\n",
       "      <td>DRUGMATRIX: Phosphodiesterase PDE5 enzyme inhi...</td>\n",
       "      <td>Homo sapiens</td>\n",
       "      <td>Unspecified</td>\n",
       "      <td>B</td>\n",
       "      <td>CHEMBL1909186</td>\n",
       "      <td></td>\n",
       "      <td>1742</td>\n",
       "    </tr>\n",
       "    <tr>\n",
       "      <th>157873</th>\n",
       "      <td>DRUGMATRIX: Phosphodiesterase PDE3 enzyme inhi...</td>\n",
       "      <td>Homo sapiens</td>\n",
       "      <td>Unspecified</td>\n",
       "      <td>B</td>\n",
       "      <td>CHEMBL1909184</td>\n",
       "      <td></td>\n",
       "      <td>1742</td>\n",
       "    </tr>\n",
       "    <tr>\n",
       "      <th>157883</th>\n",
       "      <td>DRUGMATRIX: Protease, Cathepsin G enzyme inhib...</td>\n",
       "      <td>Homo sapiens</td>\n",
       "      <td>Unspecified</td>\n",
       "      <td>B</td>\n",
       "      <td>CHEMBL1909194</td>\n",
       "      <td></td>\n",
       "      <td>1742</td>\n",
       "    </tr>\n",
       "    <tr>\n",
       "      <th>157884</th>\n",
       "      <td>DRUGMATRIX: Peptidase, ELA2 (Neutrophil Elasta...</td>\n",
       "      <td>Homo sapiens</td>\n",
       "      <td>Unspecified</td>\n",
       "      <td>B</td>\n",
       "      <td>CHEMBL1909195</td>\n",
       "      <td></td>\n",
       "      <td>1742</td>\n",
       "    </tr>\n",
       "    <tr>\n",
       "      <th>157885</th>\n",
       "      <td>DRUGMATRIX: Peptidase, Matrix Metalloprotease-...</td>\n",
       "      <td>Homo sapiens</td>\n",
       "      <td>Unspecified</td>\n",
       "      <td>B</td>\n",
       "      <td>CHEMBL1909196</td>\n",
       "      <td></td>\n",
       "      <td>1742</td>\n",
       "    </tr>\n",
       "    <tr>\n",
       "      <th>190118</th>\n",
       "      <td>Inhibition of NaV1.7 ion channel (unknown origin)</td>\n",
       "      <td>Homo sapiens</td>\n",
       "      <td>Unspecified</td>\n",
       "      <td>B</td>\n",
       "      <td>CHEMBL2328568</td>\n",
       "      <td>Bioorg. Med. Chem. Lett.</td>\n",
       "      <td>1017</td>\n",
       "    </tr>\n",
       "    <tr>\n",
       "      <th>151066</th>\n",
       "      <td>PUBCHEM_BIOASSAY: MLPCN Dyrk1A Kinase Measured...</td>\n",
       "      <td>Homo sapiens</td>\n",
       "      <td>Unspecified</td>\n",
       "      <td>B</td>\n",
       "      <td>CHEMBL1794557</td>\n",
       "      <td></td>\n",
       "      <td>854</td>\n",
       "    </tr>\n",
       "    <tr>\n",
       "      <th>253181</th>\n",
       "      <td>BindingDB_Patents: Homogeneous Time Resolved F...</td>\n",
       "      <td>Homo sapiens</td>\n",
       "      <td>Unspecified</td>\n",
       "      <td>B</td>\n",
       "      <td>CHEMBL3706373</td>\n",
       "      <td></td>\n",
       "      <td>810</td>\n",
       "    </tr>\n",
       "    <tr>\n",
       "      <th>252292</th>\n",
       "      <td>BindingDB_Patents: Inhibiton Assay. Inhibition...</td>\n",
       "      <td>Homo sapiens</td>\n",
       "      <td>Unspecified</td>\n",
       "      <td>B</td>\n",
       "      <td>CHEMBL3705123</td>\n",
       "      <td></td>\n",
       "      <td>752</td>\n",
       "    </tr>\n",
       "    <tr>\n",
       "      <th>140653</th>\n",
       "      <td>PUBCHEM_BIOASSAY: GAPDH Dose Response Colorime...</td>\n",
       "      <td>Homo sapiens</td>\n",
       "      <td>Unspecified</td>\n",
       "      <td>B</td>\n",
       "      <td>CHEMBL1614063</td>\n",
       "      <td></td>\n",
       "      <td>744</td>\n",
       "    </tr>\n",
       "    <tr>\n",
       "      <th>252480</th>\n",
       "      <td>BindingDB_Patents: kinase Assay. The final con...</td>\n",
       "      <td>Homo sapiens</td>\n",
       "      <td>Unspecified</td>\n",
       "      <td>B</td>\n",
       "      <td>CHEMBL3705488</td>\n",
       "      <td></td>\n",
       "      <td>741</td>\n",
       "    </tr>\n",
       "    <tr>\n",
       "      <th>252468</th>\n",
       "      <td>BindingDB_Patents: Mobility-Shift kinase assay...</td>\n",
       "      <td>Homo sapiens</td>\n",
       "      <td>Unspecified</td>\n",
       "      <td>B</td>\n",
       "      <td>CHEMBL3705362</td>\n",
       "      <td></td>\n",
       "      <td>731</td>\n",
       "    </tr>\n",
       "    <tr>\n",
       "      <th>185909</th>\n",
       "      <td>SUPPLEMENTARY: Inhibition of human P2X7 recept...</td>\n",
       "      <td>Homo sapiens</td>\n",
       "      <td>Unspecified</td>\n",
       "      <td>B</td>\n",
       "      <td>CHEMBL2218781</td>\n",
       "      <td></td>\n",
       "      <td>725</td>\n",
       "    </tr>\n",
       "  </tbody>\n",
       "</table>\n",
       "</div>"
      ],
      "text/plain": [
       "                                         assayDescription assayOrganism  \\\n",
       "140672  PUBCHEM_BIOASSAY: qHTS for Inhibitors of Tau F...  Homo sapiens   \n",
       "140669  PUBCHEM_BIOASSAY: qHTS Assay for Inhibitors of...  Homo sapiens   \n",
       "147222  PUBCHEM_BIOASSAY: qHTS Assay for Compounds Blo...  Homo sapiens   \n",
       "157937  DRUGMATRIX: Thromboxane Synthetase enzyme inhi...  Homo sapiens   \n",
       "157944  DRUGMATRIX: Carbonic Anhydrase II enzyme inhib...  Homo sapiens   \n",
       "157951  DRUGMATRIX: Cyclooxygenase COX-1 enzyme inhibi...  Homo sapiens   \n",
       "157876  DRUGMATRIX: Platelet Activating Factor (PAF) r...  Homo sapiens   \n",
       "157875  DRUGMATRIX: Phosphodiesterase PDE5 enzyme inhi...  Homo sapiens   \n",
       "157873  DRUGMATRIX: Phosphodiesterase PDE3 enzyme inhi...  Homo sapiens   \n",
       "157883  DRUGMATRIX: Protease, Cathepsin G enzyme inhib...  Homo sapiens   \n",
       "157884  DRUGMATRIX: Peptidase, ELA2 (Neutrophil Elasta...  Homo sapiens   \n",
       "157885  DRUGMATRIX: Peptidase, Matrix Metalloprotease-...  Homo sapiens   \n",
       "190118  Inhibition of NaV1.7 ion channel (unknown origin)  Homo sapiens   \n",
       "151066  PUBCHEM_BIOASSAY: MLPCN Dyrk1A Kinase Measured...  Homo sapiens   \n",
       "253181  BindingDB_Patents: Homogeneous Time Resolved F...  Homo sapiens   \n",
       "252292  BindingDB_Patents: Inhibiton Assay. Inhibition...  Homo sapiens   \n",
       "140653  PUBCHEM_BIOASSAY: GAPDH Dose Response Colorime...  Homo sapiens   \n",
       "252480  BindingDB_Patents: kinase Assay. The final con...  Homo sapiens   \n",
       "252468  BindingDB_Patents: Mobility-Shift kinase assay...  Homo sapiens   \n",
       "185909  SUPPLEMENTARY: Inhibition of human P2X7 recept...  Homo sapiens   \n",
       "\n",
       "        assayStrain assayType       chemblId                   journal  \\\n",
       "140672  Unspecified         B  CHEMBL1614421                             \n",
       "140669  Unspecified         B  CHEMBL1614364                             \n",
       "147222  Unspecified         B  CHEMBL1613933                             \n",
       "157937  Unspecified         B  CHEMBL1909116                             \n",
       "157944  Unspecified         B  CHEMBL1909123                             \n",
       "157951  Unspecified         B  CHEMBL1909130                             \n",
       "157876  Unspecified         B  CHEMBL1909187                             \n",
       "157875  Unspecified         B  CHEMBL1909186                             \n",
       "157873  Unspecified         B  CHEMBL1909184                             \n",
       "157883  Unspecified         B  CHEMBL1909194                             \n",
       "157884  Unspecified         B  CHEMBL1909195                             \n",
       "157885  Unspecified         B  CHEMBL1909196                             \n",
       "190118  Unspecified         B  CHEMBL2328568  Bioorg. Med. Chem. Lett.   \n",
       "151066  Unspecified         B  CHEMBL1794557                             \n",
       "253181  Unspecified         B  CHEMBL3706373                             \n",
       "252292  Unspecified         B  CHEMBL3705123                             \n",
       "140653  Unspecified         B  CHEMBL1614063                             \n",
       "252480  Unspecified         B  CHEMBL3705488                             \n",
       "252468  Unspecified         B  CHEMBL3705362                             \n",
       "185909  Unspecified         B  CHEMBL2218781                             \n",
       "\n",
       "        numBioactivities  \n",
       "140672             49809  \n",
       "140669             12273  \n",
       "147222              7272  \n",
       "157937              1742  \n",
       "157944              1742  \n",
       "157951              1742  \n",
       "157876              1742  \n",
       "157875              1742  \n",
       "157873              1742  \n",
       "157883              1742  \n",
       "157884              1742  \n",
       "157885              1742  \n",
       "190118              1017  \n",
       "151066               854  \n",
       "253181               810  \n",
       "252292               752  \n",
       "140653               744  \n",
       "252480               741  \n",
       "252468               731  \n",
       "185909               725  "
      ]
     },
     "execution_count": 28,
     "metadata": {},
     "output_type": "execute_result"
    }
   ],
   "source": [
    "B_numB"
   ]
  },
  {
   "cell_type": "code",
<<<<<<< HEAD
<<<<<<< HEAD
=======

>>>>>>> e4ece50b67b41079d3008e315570b29295866caf
   "execution_count": 29,
   "metadata": {
    "collapsed": true
   },
   "outputs": [],
<<<<<<< HEAD
=======
   "execution_count": 40,
   "metadata": {},
   "outputs": [
    {
     "ename": "ImportError",
     "evalue": "dynamic module does not define module export function (PyInit_rdBase)",
     "output_type": "error",
     "traceback": [
      "\u001b[0;31m---------------------------------------------------------------------------\u001b[0m",
      "\u001b[0;31mImportError\u001b[0m                               Traceback (most recent call last)",
      "\u001b[0;32m<ipython-input-40-3a181df69616>\u001b[0m in \u001b[0;36m<module>\u001b[0;34m()\u001b[0m\n\u001b[0;32m----> 1\u001b[0;31m \u001b[0;32mfrom\u001b[0m \u001b[0mrdkit\u001b[0m \u001b[0;32mimport\u001b[0m \u001b[0mChem\u001b[0m\u001b[0;34m\u001b[0m\u001b[0m\n\u001b[0m",
      "\u001b[0;32m~/git/rdkit_bleeding/rdkit/__init__.py\u001b[0m in \u001b[0;36m<module>\u001b[0;34m()\u001b[0m\n\u001b[1;32m      1\u001b[0m \u001b[0;32mtry\u001b[0m\u001b[0;34m:\u001b[0m\u001b[0;34m\u001b[0m\u001b[0m\n\u001b[0;32m----> 2\u001b[0;31m   \u001b[0;32mfrom\u001b[0m \u001b[0;34m.\u001b[0m\u001b[0mrdBase\u001b[0m \u001b[0;32mimport\u001b[0m \u001b[0mrdkitVersion\u001b[0m \u001b[0;32mas\u001b[0m \u001b[0m__version__\u001b[0m\u001b[0;34m\u001b[0m\u001b[0m\n\u001b[0m\u001b[1;32m      3\u001b[0m \u001b[0;32mexcept\u001b[0m \u001b[0mImportError\u001b[0m\u001b[0;34m:\u001b[0m\u001b[0;34m\u001b[0m\u001b[0m\n\u001b[1;32m      4\u001b[0m   \u001b[0m__version__\u001b[0m \u001b[0;34m=\u001b[0m \u001b[0;34m'Unknown'\u001b[0m\u001b[0;34m\u001b[0m\u001b[0m\n\u001b[1;32m      5\u001b[0m   \u001b[0;32mraise\u001b[0m\u001b[0;34m\u001b[0m\u001b[0m\n",
      "\u001b[0;31mImportError\u001b[0m: dynamic module does not define module export function (PyInit_rdBase)"
     ]
    }
   ],
   "source": [
    "from rdkit import Chem"
   ]
  },
  {
   "cell_type": "code",
   "execution_count": 38,
   "metadata": {},
   "outputs": [
    {
     "ename": "ImportError",
     "evalue": "dynamic module does not define module export function (PyInit_rdBase)",
     "output_type": "error",
     "traceback": [
      "\u001b[0;31m---------------------------------------------------------------------------\u001b[0m",
      "\u001b[0;31mImportError\u001b[0m                               Traceback (most recent call last)",
      "\u001b[0;32m<ipython-input-38-5c878b8d6037>\u001b[0m in \u001b[0;36m<module>\u001b[0;34m()\u001b[0m\n\u001b[0;32m----> 1\u001b[0;31m \u001b[0;32mfrom\u001b[0m \u001b[0mrdkit\u001b[0m \u001b[0;32mimport\u001b[0m \u001b[0mChem\u001b[0m\u001b[0;34m\u001b[0m\u001b[0m\n\u001b[0m\u001b[1;32m      2\u001b[0m \u001b[0;32mimport\u001b[0m \u001b[0mmolvs\u001b[0m \u001b[0;32mas\u001b[0m \u001b[0mmv\u001b[0m\u001b[0;34m\u001b[0m\u001b[0m\n\u001b[1;32m      3\u001b[0m \u001b[0;34m\u001b[0m\u001b[0m\n\u001b[1;32m      4\u001b[0m \u001b[0;31m#Function to get parent of a smiles\u001b[0m\u001b[0;34m\u001b[0m\u001b[0;34m\u001b[0m\u001b[0m\n\u001b[1;32m      5\u001b[0m \u001b[0;31m#Source: https://www.wildcardconsulting.dk/useful-information/a-deep-tox21-neural-network-with-rdkit-and-keras/\u001b[0m\u001b[0;34m\u001b[0m\u001b[0;34m\u001b[0m\u001b[0m\n",
      "\u001b[0;32m~/git/rdkit_bleeding/rdkit/__init__.py\u001b[0m in \u001b[0;36m<module>\u001b[0;34m()\u001b[0m\n\u001b[1;32m      1\u001b[0m \u001b[0;32mtry\u001b[0m\u001b[0;34m:\u001b[0m\u001b[0;34m\u001b[0m\u001b[0m\n\u001b[0;32m----> 2\u001b[0;31m   \u001b[0;32mfrom\u001b[0m \u001b[0;34m.\u001b[0m\u001b[0mrdBase\u001b[0m \u001b[0;32mimport\u001b[0m \u001b[0mrdkitVersion\u001b[0m \u001b[0;32mas\u001b[0m \u001b[0m__version__\u001b[0m\u001b[0;34m\u001b[0m\u001b[0m\n\u001b[0m\u001b[1;32m      3\u001b[0m \u001b[0;32mexcept\u001b[0m \u001b[0mImportError\u001b[0m\u001b[0;34m:\u001b[0m\u001b[0;34m\u001b[0m\u001b[0m\n\u001b[1;32m      4\u001b[0m   \u001b[0m__version__\u001b[0m \u001b[0;34m=\u001b[0m \u001b[0;34m'Unknown'\u001b[0m\u001b[0;34m\u001b[0m\u001b[0m\n\u001b[1;32m      5\u001b[0m   \u001b[0;32mraise\u001b[0m\u001b[0;34m\u001b[0m\u001b[0m\n",
      "\u001b[0;31mImportError\u001b[0m: dynamic module does not define module export function (PyInit_rdBase)"
     ]
    }
   ],
>>>>>>> 71a49cb1cd4d8b5ba4bec75ab898197dbd91220c
=======

>>>>>>> e4ece50b67b41079d3008e315570b29295866caf
   "source": [
    "from rdkit import Chem\n",
    "import molvs as mv\n",
    "\n",
    "#Function to get parent of a smiles\n",
    "#Source: https://www.wildcardconsulting.dk/useful-information/a-deep-tox21-neural-network-with-rdkit-and-keras/\n",
    "def parent(smiles):\n",
    "    st = mv.Standardizer() #MolVS standardizer\n",
    "    try:\n",
    "        mols = st.charge_parent(Chem.MolFromSmiles(smiles))\n",
    "        return Chem.MolToSmiles(mols)\n",
    "    except:\n",
    "        return \"NaN\"\n",
    "\n",
    "#Clean and standardize the data\n",
    "def clean_data(data):\n",
    "    #remove missing smiles\n",
    "    data = data[~(data['smiles'].isnull())]\n",
    "    \n",
    "    #Standardize and get parent with molvs\n",
    "    data[\"smiles_parent\"] = data.smiles.apply(parent)\n",
    "    data = data[~(data['smiles_parent'] == \"NaN\")]\n",
    "    \n",
    "    #Filter small fragents away\n",
    "    def NumAtoms(smile):\n",
    "        return Chem.MolFromSmiles(smile).GetNumAtoms()\n",
    "    \n",
    "    data[\"NumAtoms\"] = data[\"smiles_parent\"].apply(NumAtoms)\n",
    "    data = data[data[\"NumAtoms\"] > 3]\n",
    "    return data"
   ]
  },
  {
   "cell_type": "code",
   "execution_count": 30,
   "metadata": {},
   "outputs": [
    {
     "name": "stderr",
     "output_type": "stream",
     "text": [
      "/ihome/gidakwo/anaconda3/envs/ml_env/lib/python3.5/site-packages/ipykernel_launcher.py:20: SettingWithCopyWarning: \n",
      "A value is trying to be set on a copy of a slice from a DataFrame.\n",
      "Try using .loc[row_indexer,col_indexer] = value instead\n",
      "\n",
      "See the caveats in the documentation: http://pandas.pydata.org/pandas-docs/stable/indexing.html#indexing-view-versus-copy\n"
     ]
    }
   ],
   "source": [
    "mergedChEMBLDF = pd.DataFrame()\n",
    "keep_cols = ['chemblId','stdInChiKey', 'value', 'operator', 'smiles']\n",
    "\n",
    "for i in B_numB['chemblId']: #For every chemID in the shortlisted 20\n",
    "    b = s.get_assays_bioactivities(i)\n",
    "    b = b['bioactivities'] #Nested Dictionary (Outputs of the Bioservices package are usually json format)\n",
    "    df__ = pd.DataFrame(b) #This data frame has ChemID of the compounds in the BioAssay, no SMILES\n",
    "    \n",
    "    #To get the SMILES and InChiKey for each compound:\n",
    "    c = s.get_compounds_by_chemblId(df__['ingredient_cmpd_chemblid'])\n",
    "    df_c = pd.DataFrame([i['compound'] for i in c]) #Another nested dictionary\n",
    "    \n",
    "    assay_data = pd.concat([df__, df_c], axis = 1) #Merge bioactivity and compound dataframes\n",
    "    assay_data_ = assay_data.loc[:, keep_cols] #Select only relevant columns\n",
    "    assay_data_ = clean_data(assay_data_) #Generate charged parent\n",
    "    \n",
    "    assay_data_ = assay_data_.drop(['NumAtoms', 'chemblId'], axis=1)\n",
    "    assay_id = i[6:]\n",
    "    assay_data_.columns = ['stdInChiKey', assay_id + '_value', assay_id + '_operator', 'smiles', 'smiles_parent']\n",
    "    mergedChEMBLDF = pd.concat([mergedChEMBLDF, assay_data_]).groupby('stdInChiKey', as_index=False, sort=False).first().fillna('NA')\n",
    "    \n",
    "mergedChEMBLDF.to_csv('/ihome/gidakwo/ml_files/SMILES/mergedChEMBLDF.csv', index=False)"
   ]
  },
  {
   "cell_type": "code",
   "execution_count": 31,
   "metadata": {},
   "outputs": [
    {
     "data": {
      "text/html": [
       "<div>\n",
       "<style>\n",
       "    .dataframe thead tr:only-child th {\n",
       "        text-align: right;\n",
       "    }\n",
       "\n",
       "    .dataframe thead th {\n",
       "        text-align: left;\n",
       "    }\n",
       "\n",
       "    .dataframe tbody tr th {\n",
       "        vertical-align: top;\n",
       "    }\n",
       "</style>\n",
       "<table border=\"1\" class=\"dataframe\">\n",
       "  <thead>\n",
       "    <tr style=\"text-align: right;\">\n",
       "      <th></th>\n",
       "      <th>stdInChiKey</th>\n",
       "      <th>1613933_operator</th>\n",
       "      <th>1613933_value</th>\n",
       "      <th>1614063_operator</th>\n",
       "      <th>1614063_value</th>\n",
       "      <th>1614364_operator</th>\n",
       "      <th>1614364_value</th>\n",
       "      <th>1614421_operator</th>\n",
       "      <th>1614421_value</th>\n",
       "      <th>1794557_operator</th>\n",
       "      <th>...</th>\n",
       "      <th>3705123_operator</th>\n",
       "      <th>3705123_value</th>\n",
       "      <th>3705362_operator</th>\n",
       "      <th>3705362_value</th>\n",
       "      <th>3705488_operator</th>\n",
       "      <th>3705488_value</th>\n",
       "      <th>3706373_operator</th>\n",
       "      <th>3706373_value</th>\n",
       "      <th>smiles</th>\n",
       "      <th>smiles_parent</th>\n",
       "    </tr>\n",
       "  </thead>\n",
       "  <tbody>\n",
       "    <tr>\n",
       "      <th>0</th>\n",
       "      <td>RJYFVJPEXKPGNZ-UHFFFAOYSA-N</td>\n",
       "      <td>NA</td>\n",
       "      <td>NA</td>\n",
       "      <td>NA</td>\n",
       "      <td>NA</td>\n",
       "      <td>NA</td>\n",
       "      <td>NA</td>\n",
       "      <td>=</td>\n",
       "      <td>1412.5</td>\n",
       "      <td>NA</td>\n",
       "      <td>...</td>\n",
       "      <td>NA</td>\n",
       "      <td>NA</td>\n",
       "      <td>NA</td>\n",
       "      <td>NA</td>\n",
       "      <td>NA</td>\n",
       "      <td>NA</td>\n",
       "      <td>NA</td>\n",
       "      <td>NA</td>\n",
       "      <td>COc1ccccc1C2CCN(CC2)C(=Nc3ccc(Br)cc3)S</td>\n",
       "      <td>COc1ccccc1C1CCN(C(S)=Nc2ccc(Br)cc2)CC1</td>\n",
       "    </tr>\n",
       "    <tr>\n",
       "      <th>1</th>\n",
       "      <td>GNWGGHKGEXNNMK-UHFFFAOYSA-N</td>\n",
       "      <td>NA</td>\n",
       "      <td>NA</td>\n",
       "      <td>NA</td>\n",
       "      <td>NA</td>\n",
       "      <td>NA</td>\n",
       "      <td>NA</td>\n",
       "      <td>=</td>\n",
       "      <td>17782.8</td>\n",
       "      <td>NA</td>\n",
       "      <td>...</td>\n",
       "      <td>NA</td>\n",
       "      <td>NA</td>\n",
       "      <td>NA</td>\n",
       "      <td>NA</td>\n",
       "      <td>NA</td>\n",
       "      <td>NA</td>\n",
       "      <td>NA</td>\n",
       "      <td>NA</td>\n",
       "      <td>Cc1ccc(O)c(NC(=O)c2onc(c2)c3ccc(F)cc3)c1</td>\n",
       "      <td>Cc1ccc(O)c(NC(=O)c2cc(-c3ccc(F)cc3)no2)c1</td>\n",
       "    </tr>\n",
       "    <tr>\n",
       "      <th>2</th>\n",
       "      <td>LVDHDRPSCLIFHH-RDRPBHBLSA-N</td>\n",
       "      <td>NA</td>\n",
       "      <td>NA</td>\n",
       "      <td>NA</td>\n",
       "      <td>NA</td>\n",
       "      <td>=</td>\n",
       "      <td>5011.9</td>\n",
       "      <td>=</td>\n",
       "      <td>10000</td>\n",
       "      <td>NA</td>\n",
       "      <td>...</td>\n",
       "      <td>NA</td>\n",
       "      <td>NA</td>\n",
       "      <td>NA</td>\n",
       "      <td>NA</td>\n",
       "      <td>NA</td>\n",
       "      <td>NA</td>\n",
       "      <td>NA</td>\n",
       "      <td>NA</td>\n",
       "      <td>COc1ccccc1NC(=O)C(=O)N\\N=C(/C)\\CC(=O)Nc2ccc(OC...</td>\n",
       "      <td>COc1ccccc1NC(=O)C(=O)NN=C(C)CC(=O)Nc1ccc(OCc2c...</td>\n",
       "    </tr>\n",
       "    <tr>\n",
       "      <th>3</th>\n",
       "      <td>OJENVBWGZAMKEC-UHFFFAOYSA-N</td>\n",
       "      <td>NA</td>\n",
       "      <td>NA</td>\n",
       "      <td>NA</td>\n",
       "      <td>NA</td>\n",
       "      <td>NA</td>\n",
       "      <td>NA</td>\n",
       "      <td>=</td>\n",
       "      <td>707.9</td>\n",
       "      <td>NA</td>\n",
       "      <td>...</td>\n",
       "      <td>NA</td>\n",
       "      <td>NA</td>\n",
       "      <td>NA</td>\n",
       "      <td>NA</td>\n",
       "      <td>NA</td>\n",
       "      <td>NA</td>\n",
       "      <td>NA</td>\n",
       "      <td>NA</td>\n",
       "      <td>CC(=O)c1ccc(NC(=O)c2oc(cc2)c3ccc(Cl)cc3)cc1</td>\n",
       "      <td>CC(=O)c1ccc(NC(=O)c2ccc(-c3ccc(Cl)cc3)o2)cc1</td>\n",
       "    </tr>\n",
       "    <tr>\n",
       "      <th>4</th>\n",
       "      <td>HGUWAIXVEMNODZ-UHFFFAOYSA-N</td>\n",
       "      <td>NA</td>\n",
       "      <td>NA</td>\n",
       "      <td>NA</td>\n",
       "      <td>NA</td>\n",
       "      <td>NA</td>\n",
       "      <td>NA</td>\n",
       "      <td>=</td>\n",
       "      <td>19952.6</td>\n",
       "      <td>NA</td>\n",
       "      <td>...</td>\n",
       "      <td>NA</td>\n",
       "      <td>NA</td>\n",
       "      <td>NA</td>\n",
       "      <td>NA</td>\n",
       "      <td>NA</td>\n",
       "      <td>NA</td>\n",
       "      <td>NA</td>\n",
       "      <td>NA</td>\n",
       "      <td>Cc1nc2ncnn2c(N3CCN(CC3)c4cccc(c4)C(F)(F)F)c1C</td>\n",
       "      <td>Cc1nc2ncnn2c(N2CCN(c3cccc(C(F)(F)F)c3)CC2)c1C</td>\n",
       "    </tr>\n",
       "  </tbody>\n",
       "</table>\n",
       "<p>5 rows × 43 columns</p>\n",
       "</div>"
      ],
      "text/plain": [
       "                   stdInChiKey 1613933_operator 1613933_value  \\\n",
       "0  RJYFVJPEXKPGNZ-UHFFFAOYSA-N               NA            NA   \n",
       "1  GNWGGHKGEXNNMK-UHFFFAOYSA-N               NA            NA   \n",
       "2  LVDHDRPSCLIFHH-RDRPBHBLSA-N               NA            NA   \n",
       "3  OJENVBWGZAMKEC-UHFFFAOYSA-N               NA            NA   \n",
       "4  HGUWAIXVEMNODZ-UHFFFAOYSA-N               NA            NA   \n",
       "\n",
       "  1614063_operator 1614063_value 1614364_operator 1614364_value  \\\n",
       "0               NA            NA               NA            NA   \n",
       "1               NA            NA               NA            NA   \n",
       "2               NA            NA                =        5011.9   \n",
       "3               NA            NA               NA            NA   \n",
       "4               NA            NA               NA            NA   \n",
       "\n",
       "  1614421_operator 1614421_value 1794557_operator  \\\n",
       "0                =        1412.5               NA   \n",
       "1                =       17782.8               NA   \n",
       "2                =         10000               NA   \n",
       "3                =         707.9               NA   \n",
       "4                =       19952.6               NA   \n",
       "\n",
       "                         ...                         3705123_operator  \\\n",
       "0                        ...                                       NA   \n",
       "1                        ...                                       NA   \n",
       "2                        ...                                       NA   \n",
       "3                        ...                                       NA   \n",
       "4                        ...                                       NA   \n",
       "\n",
       "  3705123_value 3705362_operator 3705362_value 3705488_operator 3705488_value  \\\n",
       "0            NA               NA            NA               NA            NA   \n",
       "1            NA               NA            NA               NA            NA   \n",
       "2            NA               NA            NA               NA            NA   \n",
       "3            NA               NA            NA               NA            NA   \n",
       "4            NA               NA            NA               NA            NA   \n",
       "\n",
       "  3706373_operator 3706373_value  \\\n",
       "0               NA            NA   \n",
       "1               NA            NA   \n",
       "2               NA            NA   \n",
       "3               NA            NA   \n",
       "4               NA            NA   \n",
       "\n",
       "                                              smiles  \\\n",
       "0             COc1ccccc1C2CCN(CC2)C(=Nc3ccc(Br)cc3)S   \n",
       "1           Cc1ccc(O)c(NC(=O)c2onc(c2)c3ccc(F)cc3)c1   \n",
       "2  COc1ccccc1NC(=O)C(=O)N\\N=C(/C)\\CC(=O)Nc2ccc(OC...   \n",
       "3        CC(=O)c1ccc(NC(=O)c2oc(cc2)c3ccc(Cl)cc3)cc1   \n",
       "4      Cc1nc2ncnn2c(N3CCN(CC3)c4cccc(c4)C(F)(F)F)c1C   \n",
       "\n",
       "                                       smiles_parent  \n",
       "0             COc1ccccc1C1CCN(C(S)=Nc2ccc(Br)cc2)CC1  \n",
       "1          Cc1ccc(O)c(NC(=O)c2cc(-c3ccc(F)cc3)no2)c1  \n",
       "2  COc1ccccc1NC(=O)C(=O)NN=C(C)CC(=O)Nc1ccc(OCc2c...  \n",
       "3       CC(=O)c1ccc(NC(=O)c2ccc(-c3ccc(Cl)cc3)o2)cc1  \n",
       "4      Cc1nc2ncnn2c(N2CCN(c3cccc(C(F)(F)F)c3)CC2)c1C  \n",
       "\n",
       "[5 rows x 43 columns]"
      ]
     },
     "execution_count": 31,
     "metadata": {},
     "output_type": "execute_result"
    }
   ],
   "source": [
    "mergedChEMBLDF.head()"
   ]
  },
  {
   "cell_type": "code",
   "execution_count": 32,
   "metadata": {},
   "outputs": [
    {
     "data": {
      "text/plain": [
       "(65382, 43)"
      ]
     },
     "execution_count": 32,
     "metadata": {},
     "output_type": "execute_result"
    }
   ],
   "source": [
    "mergedChEMBLDF.shape"
   ]
  },
  {
   "cell_type": "code",
   "execution_count": 34,
   "metadata": {},
   "outputs": [
    {
     "name": "stdout",
     "output_type": "stream",
     "text": [
      "0:27:20.731797\n"
     ]
    }
   ],
   "source": [
    "elapsed = (time.time() - start)\n",
    "print(str(timedelta(seconds=elapsed)))"
   ]
  }
 ],
 "metadata": {
  "kernelspec": {
   "display_name": "Python3_Keras2.1.1-Tensorflow",
   "language": "python",
   "name": "python3_keras2.1.1-tensorflow"
  },
  "language_info": {
   "codemirror_mode": {
    "name": "ipython",
    "version": 3
   },
   "file_extension": ".py",
   "mimetype": "text/x-python",
   "name": "python",
   "nbconvert_exporter": "python",
   "pygments_lexer": "ipython3",
   "version": "3.5.2"
  }
 },
 "nbformat": 4,
 "nbformat_minor": 2
}
