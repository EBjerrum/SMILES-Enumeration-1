{
 "cells": [
  {
   "cell_type": "code",
   "execution_count": 2,
   "metadata": {},
   "outputs": [
    {
     "name": "stderr",
     "output_type": "stream",
     "text": [
      "/ihome/gidakwo/anaconda3/envs/ml_env/lib/python3.5/site-packages/IPython/core/interactiveshell.py:2698: DtypeWarning: Columns (12) have mixed types. Specify dtype option on import or set low_memory=False.\n",
      "  interactivity=interactivity, compiler=compiler, result=result)\n"
     ]
    }
   ],
   "source": [
    "import os\n",
    "import pandas as pd\n",
    "import numpy as np\n",
    "\n",
    "cols = [2,3,4,7,8,9]\n",
    "\n",
    "PubChemDF = pd.DataFrame()\n",
    "PCBA_ID = []\n",
    "\n",
    "for filename in os.listdir(os.getcwd()):\n",
    "    if filename.startswith('AID'):\n",
    "        assay_id = filename.rsplit('_')[1]\n",
    "        df = pd.read_csv(filename, skiprows = list(range(1,6)))#Skip rows with column description\n",
    "        #df = df.iloc[:,2:5] #Select needed columns\n",
    "        df = df.iloc[:,cols]\n",
    "        df.columns = ['CID', assay_id + '_OUTCOME', assay_id + '_SCORE', assay_id + 'PHENOTYPE', assay_id + '_POTENCY', assay_id + '_EFFICACY']\n",
    "        PubChemDF = pd.concat([PubChemDF, df]).groupby('CID', as_index=False, sort=False).first().fillna('NA')\n",
    "        PCBA_ID.append(assay_id)"
   ]
  },
  {
   "cell_type": "code",
   "execution_count": 5,
   "metadata": {
    "collapsed": true
   },
   "outputs": [],
   "source": [
    "import pubchempy as pcp\n",
    "from rdkit import Chem\n",
    "import molvs as mv\n",
    "\n",
    "def get_parent_smile(cid):\n",
    "    try:\n",
    "        cpd = pcp.Compound.from_cid(int(cid))\n",
    "        smi = cpd.isomeric_smiles\n",
    "        st = mv.Standardizer()\n",
    "        mol = Chem.MolFromSmiles(smi)\n",
    "        smts = Chem.MolFromSmarts(\"[!#1&!#5&!#6&!#7&!#8&!#9&!#14&!#15&!#16&!#17&!#34&!#35&!#53]~*\")\n",
    "        if mol.HasSubstructMatch(smts) == False:\n",
    "            mols = st.charge_parent(mol)\n",
    "            return Chem.MolToSmiles(mols)\n",
    "    except:\n",
    "        return 'NaN'\n",
    "\n",
    "#Generate InchiKey\n",
    "def inchikey_gen(smile):\n",
    "    try:\n",
    "        m = Chem.MolFromSmiles(smile)\n",
    "        m_ = Chem.MolToInchi(m)\n",
    "        m__ = Chem.InchiToInchiKey(m_)\n",
    "        return m__\n",
    "    except:\n",
    "        return 'NaN'\n",
    "    \n",
    "#Clean and standardize the data\n",
    "def clean_data(data):\n",
    "    #Standardize and get parent with molvs\n",
    "    data[\"smiles_parent\"] = data['CID'].apply(get_parent_smile)\n",
    "    #data = data[data['smiles_parent'].notnull()]\n",
    "    data = data[~(data['smiles_parent'] == \"NaN\")]\n",
    "    \n",
    "    data[\"inchi\"] = data['smiles_parent'].apply(inchikey_gen)\n",
    "    data = data[~(data['inchi'] == \"NaN\")]\n",
    "    #data = data.drop('CID', axis = 1)\n",
    "    return data"
   ]
  },
  {
   "cell_type": "code",
   "execution_count": 6,
   "metadata": {},
   "outputs": [
    {
     "name": "stderr",
     "output_type": "stream",
     "text": [
      "/ihome/gidakwo/anaconda3/envs/ml_env/lib/python3.5/site-packages/ipykernel_launcher.py:35: SettingWithCopyWarning: \n",
      "A value is trying to be set on a copy of a slice from a DataFrame.\n",
      "Try using .loc[row_indexer,col_indexer] = value instead\n",
      "\n",
      "See the caveats in the documentation: http://pandas.pydata.org/pandas-docs/stable/indexing.html#indexing-view-versus-copy\n"
     ]
    }
   ],
   "source": [
    "PubChemDF = clean_data(PubChemDF)"
   ]
  },
  {
   "cell_type": "code",
   "execution_count": 17,
   "metadata": {
    "collapsed": true
   },
   "outputs": [],
   "source": [
    "PubChemDF.to_csv('PubChemDF_new.csv')"
   ]
  },
  {
   "cell_type": "code",
   "execution_count": null,
   "metadata": {
    "collapsed": true
   },
   "outputs": [],
   "source": []
  }
 ],
 "metadata": {
  "kernelspec": {
   "display_name": "Python 3",
   "language": "python",
   "name": "python3"
  },
  "language_info": {
   "codemirror_mode": {
    "name": "ipython",
    "version": 3
   },
   "file_extension": ".py",
   "mimetype": "text/x-python",
   "name": "python",
   "nbconvert_exporter": "python",
   "pygments_lexer": "ipython3",
   "version": "3.5.4"
  }
 },
 "nbformat": 4,
 "nbformat_minor": 2
}
