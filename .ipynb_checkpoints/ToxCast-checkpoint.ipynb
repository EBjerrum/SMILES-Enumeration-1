{
 "cells": [
  {
   "cell_type": "code",
   "execution_count": null,
   "metadata": {
    "collapsed": true
   },
   "outputs": [],
   "source": [
    "#Toxcast Data set is available at: https://www.epa.gov/chemical-research/toxicity-forecaster-toxcasttm-data\n",
    "#  Download ToxCast Summary Information -> INVITRODB_V2_SUMMARY.zip -> oldstyle_ac50_Matrix_151020.csv\n",
    "\n",
    "#The CAS number for a chemical  should  be  converted  to  the  code \n",
    "#(the  letter  C  followed  by  the  CAS  number  with  hyphens removed, e.g. C43121433)\n",
    "#  total of 1192 assay endpoints and 9076 chemicals"
   ]
  },
  {
   "cell_type": "code",
   "execution_count": 7,
   "metadata": {
    "collapsed": true
   },
   "outputs": [],
   "source": [
    "import pandas as pd\n",
    "import numpy as np\n",
    "from rdkit import Chem\n",
    "import molvs as mv"
   ]
  },
  {
   "cell_type": "code",
   "execution_count": null,
   "metadata": {
    "collapsed": true
   },
   "outputs": [],
   "source": [
    "import time\n",
    "from datetime import timedelta\n",
    "start = time.time()"
   ]
  },
  {
   "cell_type": "code",
   "execution_count": 8,
   "metadata": {
    "collapsed": true
   },
   "outputs": [],
   "source": [
    "#Toxcast Data set is available at: https://www.epa.gov/chemical-research/toxicity-forecaster-toxcasttm-data\n",
    "#  Download ToxCast Summary Information -> INVITRODB_V2_SUMMARY.zip -> oldstyle_ac50_Matrix_151020.csv\n",
    "toxcast_df1 = pd.read_csv('/ihome/gidakwo/ml_files/SMILES/ToxCast/oldstyle_ac50_Matrix_151020.csv')\n",
    "\n",
    "\n",
    "#Here, CAS already converted to SMILES\n",
    "toxcast_df = pd.read_csv('http://deepchem.io.s3-website-us-west-1.amazonaws.com/datasets/toxcast_data.csv.gz')"
   ]
  },
  {
   "cell_type": "code",
   "execution_count": 9,
   "metadata": {},
   "outputs": [
    {
     "name": "stdout",
     "output_type": "stream",
     "text": [
      "Toxcast data shape:  (9076, 1193)\n",
      "DeepChem Toxcast data shape:  (8615, 618)\n"
     ]
    }
   ],
   "source": [
    "print('Toxcast data shape: ', toxcast_df1.shape)\n",
    "print('DeepChem Toxcast data shape: ', toxcast_df.shape)\n"
   ]
  },
  {
   "cell_type": "code",
   "execution_count": null,
   "metadata": {
    "collapsed": true
   },
   "outputs": [],
   "source": [
    "#How to convert CAS to SMILES??\n",
    "#How did DeepChem preprocess their data?"
   ]
  }
 ],
 "metadata": {
  "kernelspec": {
   "display_name": "Python 3",
   "language": "python",
   "name": "jupy_kernel"
  },
  "language_info": {
   "codemirror_mode": {
    "name": "ipython",
    "version": 3
   },
   "file_extension": ".py",
   "mimetype": "text/x-python",
   "name": "python",
   "nbconvert_exporter": "python",
   "pygments_lexer": "ipython3",
   "version": "3.5.4"
  }
 },
 "nbformat": 4,
 "nbformat_minor": 2
}
